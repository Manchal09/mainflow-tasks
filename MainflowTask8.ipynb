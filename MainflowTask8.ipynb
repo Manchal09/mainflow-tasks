{
  "nbformat": 4,
  "nbformat_minor": 0,
  "metadata": {
    "colab": {
      "provenance": [],
      "authorship_tag": "ABX9TyOm6dMGqylGbjaxCSAAsbrd",
      "include_colab_link": true
    },
    "kernelspec": {
      "name": "python3",
      "display_name": "Python 3"
    },
    "language_info": {
      "name": "python"
    }
  },
  "cells": [
    {
      "cell_type": "markdown",
      "metadata": {
        "id": "view-in-github",
        "colab_type": "text"
      },
      "source": [
        "<a href=\"https://colab.research.google.com/github/Manchal09/mainflow-tasks/blob/main/MainflowTask8.ipynb\" target=\"_parent\"><img src=\"https://colab.research.google.com/assets/colab-badge.svg\" alt=\"Open In Colab\"/></a>"
      ]
    },
    {
      "cell_type": "markdown",
      "source": [
        "**Section 1: Feature Engineering & Model Tuning**"
      ],
      "metadata": {
        "id": "42sI62zfFTJu"
      }
    },
    {
      "cell_type": "code",
      "source": [
        "#DATASET CREATION\n",
        "import pandas as pd\n",
        "\n",
        "# Create dataset\n",
        "data = {\n",
        "    \"feature1\": [10, 5, 8, 12, 7, 9, 15, 6],\n",
        "    \"feature2\": [20, 15, 18, 22, 17, 19, 25, 16],\n",
        "    \"feature3\": [30, 25, 28, 32, 27, 29, 35, 26],\n",
        "    \"existing_feature1\": [15, 10, 13, 17, 12, 14, 20, 11],\n",
        "    \"existing_feature2\": [25, 20, 23, 27, 22, 24, 30, 21],\n",
        "    \"target\": [1, 0, 1, 0, 1, 0, 1, 0]\n",
        "}\n",
        "\n",
        "# Convert to DataFrame\n",
        "df = pd.DataFrame(data)\n",
        "\n",
        "# Save as CSV file\n",
        "df.to_csv(\"feature_engineering.csv\", index=False)\n",
        "\n",
        "print(\"Dataset saved as feature_engineering.csv\")"
      ],
      "metadata": {
        "colab": {
          "base_uri": "https://localhost:8080/"
        },
        "id": "CK_Z09ywFybZ",
        "outputId": "d031b8a4-882f-4030-e731-f1c4f7f302f1"
      },
      "execution_count": 9,
      "outputs": [
        {
          "output_type": "stream",
          "name": "stdout",
          "text": [
            "Dataset saved as feature_engineering.csv\n"
          ]
        }
      ]
    },
    {
      "cell_type": "code",
      "source": [
        "import pandas as pd\n",
        "import numpy as np\n",
        "from sklearn.model_selection import train_test_split, GridSearchCV\n",
        "from sklearn.ensemble import RandomForestClassifier\n",
        "from sklearn.metrics import accuracy_score\n",
        "from sklearn.model_selection import StratifiedKFold\n",
        "\n",
        "strat_kfold = StratifiedKFold(n_splits=3, shuffle=True, random_state=42)\n",
        "\n",
        "grid_search = GridSearchCV(rf, param_grid, cv=strat_kfold, scoring=\"accuracy\", n_jobs=-1)\n",
        "\n",
        "# Load dataset\n",
        "df = pd.read_csv(\"feature_engineering.csv\")\n",
        "\n",
        "# Feature Engineering: Creating new features\n",
        "df[\"sum_feature\"] = df[\"feature1\"] + df[\"feature2\"] + df[\"feature3\"]\n",
        "df[\"avg_feature\"] = df[[\"feature1\", \"feature2\", \"feature3\"]].mean(axis=1)\n",
        "\n",
        "# Splitting data\n",
        "X = df.drop(columns=[\"target\"])  # Features\n",
        "y = df[\"target\"]  # Target variable\n",
        "\n",
        "X_train, X_test, y_train, y_test = train_test_split(X, y, test_size=0.2, random_state=42,stratify=y)\n",
        "\n",
        "# Model Training with Hyperparameter Tuning\n",
        "param_grid = {\n",
        "    \"n_estimators\": [50, 100, 200],\n",
        "    \"max_depth\": [None, 10, 20],\n",
        "    \"min_samples_split\": [2, 5, 10]\n",
        "}\n",
        "\n",
        "rf = RandomForestClassifier(random_state=42)\n",
        "grid_search = GridSearchCV(rf, param_grid, cv=3, scoring=\"accuracy\", n_jobs=-1)\n",
        "grid_search.fit(X_train, y_train)\n",
        "\n",
        "# Best model evaluation\n",
        "best_model = grid_search.best_estimator_\n",
        "y_pred = best_model.predict(X_test)\n",
        "accuracy = accuracy_score(y_test, y_pred)\n",
        "\n",
        "print(f\"Best Model Accuracy: {accuracy:.4f}\")\n",
        "print(\"Best Parameters:\", grid_search.best_params_)"
      ],
      "metadata": {
        "colab": {
          "base_uri": "https://localhost:8080/"
        },
        "id": "NcEviLzrHXfY",
        "outputId": "6d30d5d4-d93a-4379-a8e9-8817f8e60b58"
      },
      "execution_count": 17,
      "outputs": [
        {
          "output_type": "stream",
          "name": "stdout",
          "text": [
            "Best Model Accuracy: 0.0000\n",
            "Best Parameters: {'max_depth': None, 'min_samples_split': 2, 'n_estimators': 50}\n"
          ]
        }
      ]
    },
    {
      "cell_type": "markdown",
      "source": [
        "**Section 2: Fraud Detection with Decision Trees**"
      ],
      "metadata": {
        "id": "GS7yi10BGX-5"
      }
    },
    {
      "cell_type": "code",
      "source": [
        "#DATASET CREATION\n",
        "import pandas as pd\n",
        "\n",
        "# Create dataset\n",
        "data = {\n",
        "    \"Transaction ID\": [1, 2, 3, 4, 5, 6, 7, 8],\n",
        "    \"Amount\": [500, 2000, 150, 3000, 1000, 2500, 50, 4000],\n",
        "    \"Type\": [\"credit\", \"debit\", \"credit\", \"debit\", \"credit\", \"debit\", \"credit\", \"debit\"],\n",
        "    \"Is Fraud\": [0, 1, 0, 1, 0, 1, 0, 1]\n",
        "}\n",
        "\n",
        "# Convert to DataFrame\n",
        "df = pd.DataFrame(data)\n",
        "\n",
        "# Save as CSV file\n",
        "df.to_csv(\"fraud_detection.csv\", index=False)\n",
        "\n",
        "print(\"Dataset saved as fraud_detection.csv\")"
      ],
      "metadata": {
        "colab": {
          "base_uri": "https://localhost:8080/"
        },
        "id": "nhh-ce_8F3U-",
        "outputId": "9844579a-62cf-4afb-cf83-d50d68adea46"
      },
      "execution_count": 10,
      "outputs": [
        {
          "output_type": "stream",
          "name": "stdout",
          "text": [
            "Dataset saved as fraud_detection.csv\n"
          ]
        }
      ]
    },
    {
      "cell_type": "code",
      "source": [
        "import pandas as pd\n",
        "from sklearn.model_selection import train_test_split\n",
        "from sklearn.tree import DecisionTreeClassifier\n",
        "from sklearn.preprocessing import LabelEncoder\n",
        "from sklearn.metrics import precision_score, recall_score, f1_score\n",
        "\n",
        "# Load dataset\n",
        "df = pd.read_csv(\"fraud_detection.csv\")\n",
        "\n",
        "# Convert categorical features using Label Encoding\n",
        "label_encoder = LabelEncoder()\n",
        "df[\"Type\"] = label_encoder.fit_transform(df[\"Type\"])\n",
        "\n",
        "# Handle missing values (if any)\n",
        "df.fillna(df.mean(), inplace=True)\n",
        "\n",
        "# Feature Engineering: Creating derived features\n",
        "df[\"Transaction_Risk\"] = df[\"Amount\"] / df[\"Amount\"].max()\n",
        "\n",
        "# Define features and target variable\n",
        "X = df.drop(columns=[\"Is Fraud\"])\n",
        "y = df[\"Is Fraud\"]\n",
        "\n",
        "# Splitting dataset\n",
        "X_train, X_test, y_train, y_test = train_test_split(X, y, test_size=0.2, random_state=42)\n",
        "\n",
        "# Train Decision Tree Classifier\n",
        "model = DecisionTreeClassifier(random_state=42)\n",
        "model.fit(X_train, y_train)\n",
        "\n",
        "# Predictions\n",
        "y_pred = model.predict(X_test)\n",
        "\n",
        "# Evaluate model\n",
        "precision = precision_score(y_test, y_pred)\n",
        "recall = recall_score(y_test, y_pred)\n",
        "f1 = f1_score(y_test, y_pred)\n",
        "\n",
        "print(f\"Precision: {precision:.4f}, Recall: {recall:.4f}, F1-score: {f1:.4f}\")"
      ],
      "metadata": {
        "colab": {
          "base_uri": "https://localhost:8080/"
        },
        "id": "iGyN8AjvHn0c",
        "outputId": "4f317a26-da9e-4532-ce3d-8071d6f6870a"
      },
      "execution_count": 13,
      "outputs": [
        {
          "output_type": "stream",
          "name": "stdout",
          "text": [
            "Precision: 1.0000, Recall: 1.0000, F1-score: 1.0000\n"
          ]
        }
      ]
    }
  ]
}